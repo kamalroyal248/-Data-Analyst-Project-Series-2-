{
 "cells": [
  {
   "cell_type": "code",
   "execution_count": 1,
   "id": "3ac1c4e4",
   "metadata": {},
   "outputs": [
    {
     "name": "stdout",
     "output_type": "stream",
     "text": [
      "Index(['Formatted Date', 'Summary', 'Precip Type', 'Temperature (C)',\n",
      "       'Apparent Temperature (C)', 'Humidity', 'Wind Speed (km/h)',\n",
      "       'Wind Bearing (degrees)', 'Visibility (km)', 'Loud Cover',\n",
      "       'Pressure (millibars)', 'Daily Summary'],\n",
      "      dtype='object')\n"
     ]
    }
   ],
   "source": [
    "import pandas as pd\n",
    "\n",
    "# Load the dataset\n",
    "file_path = 'weather.csv'\n",
    "weather_data = pd.read_csv(file_path)\n",
    "\n",
    "# Display the column names\n",
    "print(weather_data.columns)\n"
   ]
  },
  {
   "cell_type": "code",
   "execution_count": 2,
   "id": "0e8a4688",
   "metadata": {},
   "outputs": [
    {
     "name": "stdout",
     "output_type": "stream",
     "text": [
      "Formatted Date                0\n",
      "Summary                       0\n",
      "Precip Type                 517\n",
      "Temperature (C)               0\n",
      "Apparent Temperature (C)      0\n",
      "Humidity                      0\n",
      "Wind Speed (km/h)             0\n",
      "Wind Bearing (degrees)        0\n",
      "Visibility (km)               0\n",
      "Loud Cover                    0\n",
      "Pressure (millibars)          0\n",
      "Daily Summary                 0\n",
      "dtype: int64\n"
     ]
    }
   ],
   "source": [
    "# Check for missing values\n",
    "missing_values = weather_data.isnull().sum()\n",
    "print(missing_values)\n",
    "\n",
    "# Drop missing values (or handle them as appropriate)\n",
    "weather_data = weather_data.dropna()\n"
   ]
  },
  {
   "cell_type": "code",
   "execution_count": 5,
   "id": "8c389335",
   "metadata": {},
   "outputs": [
    {
     "name": "stdout",
     "output_type": "stream",
     "text": [
      "Columns in the dataset after handling missing values: Index(['Formatted Date', 'Summary', 'Precip Type', 'Temperature (C)',\n",
      "       'Apparent Temperature (C)', 'Humidity', 'Wind Speed (km/h)',\n",
      "       'Wind Bearing (degrees)', 'Visibility (km)', 'Loud Cover',\n",
      "       'Pressure (millibars)', 'Daily Summary'],\n",
      "      dtype='object')\n"
     ]
    }
   ],
   "source": [
    "# Display column names to verify correct names\n",
    "print(\"Columns in the dataset after handling missing values:\", weather_data.columns)\n",
    "\n",
    "# Assuming correct column names are 'temperature' and 'humidity' after verification\n",
    "# Example of conversion if 'temperature' and 'humidity' are initially categorical\n",
    "temperature_mapping = {'hot': 0, 'cool': 1, 'mild': 2}\n",
    "humidity_mapping = {'high': 0, 'normal': 1}\n"
   ]
  },
  {
   "cell_type": "code",
   "execution_count": 6,
   "id": "bb474752",
   "metadata": {},
   "outputs": [],
   "source": [
    "# Verify the column names are correct before mapping\n",
    "if 'temperature' in weather_data.columns and 'humidity' in weather_data.columns:\n",
    "    weather_data['temperature'] = weather_data['temperature'].map(temperature_mapping)\n",
    "    weather_data['humidity'] = weather_data['humidity'].map(humidity_mapping)\n",
    "\n",
    "    numerical_columns = ['temperature', 'humidity']\n",
    "\n",
    "    for column in numerical_columns:\n",
    "        Q1 = weather_data[column].quantile(0.25)\n",
    "        Q3 = weather_data[column].quantile(0.75)\n",
    "        IQR = Q3 - Q1\n",
    "\n",
    "        # Filter out outliers\n",
    "        weather_data = weather_data[~((weather_data[column] < (Q1 - 1.5 * IQR)) | \n",
    "                                      (weather_data[column] > (Q3 + 1.5 * IQR)))]"
   ]
  },
  {
   "cell_type": "code",
   "execution_count": 7,
   "id": "897d7335",
   "metadata": {},
   "outputs": [],
   "source": [
    "# Convert other categorical variables to numerical\n",
    "mappings = {\n",
    "    'outlook': {'overcast': 0, 'rainy': 1, 'sunny': 2},\n",
    "    'windy': {False: 0, True: 1},\n",
    "    'play': {'yes': 1, 'no': 0}\n",
    "}"
   ]
  },
  {
   "cell_type": "code",
   "execution_count": 8,
   "id": "0d8daaa6",
   "metadata": {},
   "outputs": [],
   "source": [
    "# Apply mappings\n",
    "weather_data_numerical = weather_data.replace(mappings)"
   ]
  },
  {
   "cell_type": "code",
   "execution_count": 9,
   "id": "d4d0c090",
   "metadata": {},
   "outputs": [
    {
     "name": "stdout",
     "output_type": "stream",
     "text": [
      "                  Formatted Date        Summary Precip Type  Temperature (C)  \\\n",
      "0  2006-04-01 00:00:00.000 +0200  Partly Cloudy        rain         9.472222   \n",
      "1  2006-04-01 01:00:00.000 +0200  Partly Cloudy        rain         9.355556   \n",
      "2  2006-04-01 02:00:00.000 +0200  Mostly Cloudy        rain         9.377778   \n",
      "3  2006-04-01 03:00:00.000 +0200  Partly Cloudy        rain         8.288889   \n",
      "4  2006-04-01 04:00:00.000 +0200  Mostly Cloudy        rain         8.755556   \n",
      "\n",
      "   Apparent Temperature (C)  Humidity  Wind Speed (km/h)  \\\n",
      "0                  7.388889      0.89            14.1197   \n",
      "1                  7.227778      0.86            14.2646   \n",
      "2                  9.377778      0.89             3.9284   \n",
      "3                  5.944444      0.83            14.1036   \n",
      "4                  6.977778      0.83            11.0446   \n",
      "\n",
      "   Wind Bearing (degrees)  Visibility (km)  Loud Cover  Pressure (millibars)  \\\n",
      "0                   251.0          15.8263         0.0               1015.13   \n",
      "1                   259.0          15.8263         0.0               1015.63   \n",
      "2                   204.0          14.9569         0.0               1015.94   \n",
      "3                   269.0          15.8263         0.0               1016.41   \n",
      "4                   259.0          15.8263         0.0               1016.51   \n",
      "\n",
      "                       Daily Summary  \n",
      "0  Partly cloudy throughout the day.  \n",
      "1  Partly cloudy throughout the day.  \n",
      "2  Partly cloudy throughout the day.  \n",
      "3  Partly cloudy throughout the day.  \n",
      "4  Partly cloudy throughout the day.  \n"
     ]
    }
   ],
   "source": [
    "# Display the first few rows of the converted dataset\n",
    "print(weather_data_numerical.head())"
   ]
  },
  {
   "cell_type": "code",
   "execution_count": null,
   "id": "58b9a50b",
   "metadata": {},
   "outputs": [],
   "source": []
  }
 ],
 "metadata": {
  "kernelspec": {
   "display_name": "Python 3 (ipykernel)",
   "language": "python",
   "name": "python3"
  },
  "language_info": {
   "codemirror_mode": {
    "name": "ipython",
    "version": 3
   },
   "file_extension": ".py",
   "mimetype": "text/x-python",
   "name": "python",
   "nbconvert_exporter": "python",
   "pygments_lexer": "ipython3",
   "version": "3.9.12"
  }
 },
 "nbformat": 4,
 "nbformat_minor": 5
}
